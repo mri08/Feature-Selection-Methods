{
 "cells": [
  {
   "cell_type": "markdown",
   "id": "b3bda344",
   "metadata": {},
   "source": [
    "### Quasi-constant features"
   ]
  },
  {
   "cell_type": "markdown",
   "id": "461acb61",
   "metadata": {},
   "source": [
    "Quasi-constant featuers are those that show the same value for the large majority of the observations."
   ]
  },
  {
   "cell_type": "code",
   "execution_count": 3,
   "id": "8f5eaa8e",
   "metadata": {},
   "outputs": [],
   "source": [
    "import pandas as pd\n",
    "import random\n",
    "\n",
    "from sklearn.datasets import make_classification\n",
    "from sklearn.model_selection import train_test_split\n",
    "\n",
    "from sklearn.feature_selection import VarianceThreshold\n",
    "from feature_engine.selection import DropConstantFeatures"
   ]
  },
  {
   "cell_type": "code",
   "execution_count": 6,
   "id": "8bf7a7bd",
   "metadata": {},
   "outputs": [
    {
     "data": {
      "text/html": [
       "<div>\n",
       "<style scoped>\n",
       "    .dataframe tbody tr th:only-of-type {\n",
       "        vertical-align: middle;\n",
       "    }\n",
       "\n",
       "    .dataframe tbody tr th {\n",
       "        vertical-align: top;\n",
       "    }\n",
       "\n",
       "    .dataframe thead th {\n",
       "        text-align: right;\n",
       "    }\n",
       "</style>\n",
       "<table border=\"1\" class=\"dataframe\">\n",
       "  <thead>\n",
       "    <tr style=\"text-align: right;\">\n",
       "      <th></th>\n",
       "      <th>0</th>\n",
       "      <th>1</th>\n",
       "      <th>2</th>\n",
       "      <th>3</th>\n",
       "      <th>4</th>\n",
       "      <th>5</th>\n",
       "      <th>6</th>\n",
       "      <th>7</th>\n",
       "      <th>8</th>\n",
       "      <th>9</th>\n",
       "    </tr>\n",
       "  </thead>\n",
       "  <tbody>\n",
       "    <tr>\n",
       "      <th>0</th>\n",
       "      <td>0.964799</td>\n",
       "      <td>-0.066449</td>\n",
       "      <td>0.986768</td>\n",
       "      <td>-0.358079</td>\n",
       "      <td>0.997266</td>\n",
       "      <td>1.0</td>\n",
       "      <td>-1.615679</td>\n",
       "      <td>1.0</td>\n",
       "      <td>-0.628077</td>\n",
       "      <td>1.0</td>\n",
       "    </tr>\n",
       "    <tr>\n",
       "      <th>1</th>\n",
       "      <td>-0.916511</td>\n",
       "      <td>-0.566395</td>\n",
       "      <td>-1.008614</td>\n",
       "      <td>0.831617</td>\n",
       "      <td>-1.176962</td>\n",
       "      <td>1.0</td>\n",
       "      <td>1.752375</td>\n",
       "      <td>1.0</td>\n",
       "      <td>0.363896</td>\n",
       "      <td>1.0</td>\n",
       "    </tr>\n",
       "    <tr>\n",
       "      <th>2</th>\n",
       "      <td>-0.109484</td>\n",
       "      <td>-0.432774</td>\n",
       "      <td>-0.457649</td>\n",
       "      <td>0.793818</td>\n",
       "      <td>-0.268646</td>\n",
       "      <td>1.0</td>\n",
       "      <td>1.239086</td>\n",
       "      <td>1.0</td>\n",
       "      <td>-1.058145</td>\n",
       "      <td>1.0</td>\n",
       "    </tr>\n",
       "    <tr>\n",
       "      <th>3</th>\n",
       "      <td>1.750412</td>\n",
       "      <td>2.023606</td>\n",
       "      <td>1.688159</td>\n",
       "      <td>0.006800</td>\n",
       "      <td>-1.607661</td>\n",
       "      <td>1.0</td>\n",
       "      <td>-2.619427</td>\n",
       "      <td>1.0</td>\n",
       "      <td>-1.473127</td>\n",
       "      <td>1.0</td>\n",
       "    </tr>\n",
       "    <tr>\n",
       "      <th>4</th>\n",
       "      <td>-0.224726</td>\n",
       "      <td>-0.711303</td>\n",
       "      <td>-0.220778</td>\n",
       "      <td>0.117124</td>\n",
       "      <td>1.536061</td>\n",
       "      <td>1.0</td>\n",
       "      <td>0.348645</td>\n",
       "      <td>1.0</td>\n",
       "      <td>0.175915</td>\n",
       "      <td>1.0</td>\n",
       "    </tr>\n",
       "  </tbody>\n",
       "</table>\n",
       "</div>"
      ],
      "text/plain": [
       "          0         1         2         3         4    5         6    7  \\\n",
       "0  0.964799 -0.066449  0.986768 -0.358079  0.997266  1.0 -1.615679  1.0   \n",
       "1 -0.916511 -0.566395 -1.008614  0.831617 -1.176962  1.0  1.752375  1.0   \n",
       "2 -0.109484 -0.432774 -0.457649  0.793818 -0.268646  1.0  1.239086  1.0   \n",
       "3  1.750412  2.023606  1.688159  0.006800 -1.607661  1.0 -2.619427  1.0   \n",
       "4 -0.224726 -0.711303 -0.220778  0.117124  1.536061  1.0  0.348645  1.0   \n",
       "\n",
       "          8    9  \n",
       "0 -0.628077  1.0  \n",
       "1  0.363896  1.0  \n",
       "2 -1.058145  1.0  \n",
       "3 -1.473127  1.0  \n",
       "4  0.175915  1.0  "
      ]
     },
     "execution_count": 6,
     "metadata": {},
     "output_type": "execute_result"
    }
   ],
   "source": [
    "# create a toy dataset with redundant and constant features\n",
    "\n",
    "X,y = make_classification(\n",
    "        n_samples = 1000,\n",
    "        n_features = 10,\n",
    "        n_classes = 2,\n",
    "        random_state = 42\n",
    ")\n",
    "\n",
    "X = pd.DataFrame(X)\n",
    "y = pd.Series(y)\n",
    "\n",
    "# Add quasi-constant features\n",
    "random.seed(10)\n",
    "X.iloc[random.sample(range(0,1000), 990), [5,7,9]] = 1\n",
    "\n",
    "X.head()\n"
   ]
  },
  {
   "cell_type": "code",
   "execution_count": 7,
   "id": "aeb601c8",
   "metadata": {},
   "outputs": [
    {
     "data": {
      "text/plain": [
       " 1.000000    990\n",
       " 0.885231      1\n",
       " 0.295512      1\n",
       "-0.712221      1\n",
       "-0.660834      1\n",
       "-0.948348      1\n",
       " 0.739675      1\n",
       "-1.257868      1\n",
       "-1.147691      1\n",
       "-1.499181      1\n",
       "-0.872989      1\n",
       "Name: 5, dtype: int64"
      ]
     },
     "execution_count": 7,
     "metadata": {},
     "output_type": "execute_result"
    }
   ],
   "source": [
    "# example of quasi-constant feature\n",
    "\n",
    "X[5].value_counts()"
   ]
  },
  {
   "cell_type": "code",
   "execution_count": 8,
   "id": "159ed4ce",
   "metadata": {},
   "outputs": [
    {
     "data": {
      "text/plain": [
       "((700, 10), (300, 10))"
      ]
     },
     "execution_count": 8,
     "metadata": {},
     "output_type": "execute_result"
    }
   ],
   "source": [
    "# split dataset into train and test\n",
    "\n",
    "X_train,X_test,y_train,y_test = train_test_split(\n",
    "        X, y, test_size = 0.3, random_state = 42\n",
    ")\n",
    "\n",
    "X_train.shape, X_test.shape"
   ]
  },
  {
   "cell_type": "markdown",
   "id": "989a5070",
   "metadata": {},
   "source": [
    "### VarianceThreshold from Scikit-learn\n",
    "- only works with numerical variables.Categorical variables need to be encoded first."
   ]
  },
  {
   "cell_type": "code",
   "execution_count": 9,
   "id": "343dc043",
   "metadata": {},
   "outputs": [
    {
     "data": {
      "text/html": [
       "<style>#sk-container-id-1 {color: black;background-color: white;}#sk-container-id-1 pre{padding: 0;}#sk-container-id-1 div.sk-toggleable {background-color: white;}#sk-container-id-1 label.sk-toggleable__label {cursor: pointer;display: block;width: 100%;margin-bottom: 0;padding: 0.3em;box-sizing: border-box;text-align: center;}#sk-container-id-1 label.sk-toggleable__label-arrow:before {content: \"▸\";float: left;margin-right: 0.25em;color: #696969;}#sk-container-id-1 label.sk-toggleable__label-arrow:hover:before {color: black;}#sk-container-id-1 div.sk-estimator:hover label.sk-toggleable__label-arrow:before {color: black;}#sk-container-id-1 div.sk-toggleable__content {max-height: 0;max-width: 0;overflow: hidden;text-align: left;background-color: #f0f8ff;}#sk-container-id-1 div.sk-toggleable__content pre {margin: 0.2em;color: black;border-radius: 0.25em;background-color: #f0f8ff;}#sk-container-id-1 input.sk-toggleable__control:checked~div.sk-toggleable__content {max-height: 200px;max-width: 100%;overflow: auto;}#sk-container-id-1 input.sk-toggleable__control:checked~label.sk-toggleable__label-arrow:before {content: \"▾\";}#sk-container-id-1 div.sk-estimator input.sk-toggleable__control:checked~label.sk-toggleable__label {background-color: #d4ebff;}#sk-container-id-1 div.sk-label input.sk-toggleable__control:checked~label.sk-toggleable__label {background-color: #d4ebff;}#sk-container-id-1 input.sk-hidden--visually {border: 0;clip: rect(1px 1px 1px 1px);clip: rect(1px, 1px, 1px, 1px);height: 1px;margin: -1px;overflow: hidden;padding: 0;position: absolute;width: 1px;}#sk-container-id-1 div.sk-estimator {font-family: monospace;background-color: #f0f8ff;border: 1px dotted black;border-radius: 0.25em;box-sizing: border-box;margin-bottom: 0.5em;}#sk-container-id-1 div.sk-estimator:hover {background-color: #d4ebff;}#sk-container-id-1 div.sk-parallel-item::after {content: \"\";width: 100%;border-bottom: 1px solid gray;flex-grow: 1;}#sk-container-id-1 div.sk-label:hover label.sk-toggleable__label {background-color: #d4ebff;}#sk-container-id-1 div.sk-serial::before {content: \"\";position: absolute;border-left: 1px solid gray;box-sizing: border-box;top: 0;bottom: 0;left: 50%;z-index: 0;}#sk-container-id-1 div.sk-serial {display: flex;flex-direction: column;align-items: center;background-color: white;padding-right: 0.2em;padding-left: 0.2em;position: relative;}#sk-container-id-1 div.sk-item {position: relative;z-index: 1;}#sk-container-id-1 div.sk-parallel {display: flex;align-items: stretch;justify-content: center;background-color: white;position: relative;}#sk-container-id-1 div.sk-item::before, #sk-container-id-1 div.sk-parallel-item::before {content: \"\";position: absolute;border-left: 1px solid gray;box-sizing: border-box;top: 0;bottom: 0;left: 50%;z-index: -1;}#sk-container-id-1 div.sk-parallel-item {display: flex;flex-direction: column;z-index: 1;position: relative;background-color: white;}#sk-container-id-1 div.sk-parallel-item:first-child::after {align-self: flex-end;width: 50%;}#sk-container-id-1 div.sk-parallel-item:last-child::after {align-self: flex-start;width: 50%;}#sk-container-id-1 div.sk-parallel-item:only-child::after {width: 0;}#sk-container-id-1 div.sk-dashed-wrapped {border: 1px dashed gray;margin: 0 0.4em 0.5em 0.4em;box-sizing: border-box;padding-bottom: 0.4em;background-color: white;}#sk-container-id-1 div.sk-label label {font-family: monospace;font-weight: bold;display: inline-block;line-height: 1.2em;}#sk-container-id-1 div.sk-label-container {text-align: center;}#sk-container-id-1 div.sk-container {/* jupyter's `normalize.less` sets `[hidden] { display: none; }` but bootstrap.min.css set `[hidden] { display: none !important; }` so we also need the `!important` here to be able to override the default hidden behavior on the sphinx rendered scikit-learn.org. See: https://github.com/scikit-learn/scikit-learn/issues/21755 */display: inline-block !important;position: relative;}#sk-container-id-1 div.sk-text-repr-fallback {display: none;}</style><div id=\"sk-container-id-1\" class=\"sk-top-container\"><div class=\"sk-text-repr-fallback\"><pre>VarianceThreshold(threshold=0.2)</pre><b>In a Jupyter environment, please rerun this cell to show the HTML representation or trust the notebook. <br />On GitHub, the HTML representation is unable to render, please try loading this page with nbviewer.org.</b></div><div class=\"sk-container\" hidden><div class=\"sk-item\"><div class=\"sk-estimator sk-toggleable\"><input class=\"sk-toggleable__control sk-hidden--visually\" id=\"sk-estimator-id-1\" type=\"checkbox\" checked><label for=\"sk-estimator-id-1\" class=\"sk-toggleable__label sk-toggleable__label-arrow\">VarianceThreshold</label><div class=\"sk-toggleable__content\"><pre>VarianceThreshold(threshold=0.2)</pre></div></div></div></div></div>"
      ],
      "text/plain": [
       "VarianceThreshold(threshold=0.2)"
      ]
     },
     "execution_count": 9,
     "metadata": {},
     "output_type": "execute_result"
    }
   ],
   "source": [
    "# To remove constant feature\n",
    "\n",
    "selector = VarianceThreshold(threshold = 0.2)\n",
    "\n",
    "# fit finds the features with zero variance\n",
    "selector.fit(X_train)"
   ]
  },
  {
   "cell_type": "code",
   "execution_count": 10,
   "id": "6849476b",
   "metadata": {},
   "outputs": [
    {
     "data": {
      "text/plain": [
       "7"
      ]
     },
     "execution_count": 10,
     "metadata": {},
     "output_type": "execute_result"
    }
   ],
   "source": [
    "# get_support is a boolean vector which flags the features to keep\n",
    "\n",
    "# Number of selected features(non-constant)\n",
    "sum(selector.get_support())"
   ]
  },
  {
   "cell_type": "code",
   "execution_count": 11,
   "id": "f173e87c",
   "metadata": {},
   "outputs": [
    {
     "data": {
      "text/plain": [
       "Int64Index([5, 7, 9], dtype='int64')"
      ]
     },
     "execution_count": 11,
     "metadata": {},
     "output_type": "execute_result"
    }
   ],
   "source": [
    "# the constant features\n",
    "\n",
    "constant = X_train.columns[~selector.get_support()]\n",
    "constant"
   ]
  },
  {
   "cell_type": "code",
   "execution_count": 12,
   "id": "3f90cd41",
   "metadata": {},
   "outputs": [
    {
     "data": {
      "text/plain": [
       "((700, 7), (300, 7))"
      ]
     },
     "execution_count": 12,
     "metadata": {},
     "output_type": "execute_result"
    }
   ],
   "source": [
    "# drop constant features\n",
    "\n",
    "X_train_t = selector.transform(X_train)\n",
    "X_test_t = selector.transform(X_test)\n",
    "\n",
    "X_train_t.shape, X_test_t.shape"
   ]
  },
  {
   "cell_type": "code",
   "execution_count": 13,
   "id": "fee8f100",
   "metadata": {},
   "outputs": [
    {
     "data": {
      "text/html": [
       "<div>\n",
       "<style scoped>\n",
       "    .dataframe tbody tr th:only-of-type {\n",
       "        vertical-align: middle;\n",
       "    }\n",
       "\n",
       "    .dataframe tbody tr th {\n",
       "        vertical-align: top;\n",
       "    }\n",
       "\n",
       "    .dataframe thead th {\n",
       "        text-align: right;\n",
       "    }\n",
       "</style>\n",
       "<table border=\"1\" class=\"dataframe\">\n",
       "  <thead>\n",
       "    <tr style=\"text-align: right;\">\n",
       "      <th></th>\n",
       "      <th>x0</th>\n",
       "      <th>x1</th>\n",
       "      <th>x2</th>\n",
       "      <th>x3</th>\n",
       "      <th>x4</th>\n",
       "      <th>x6</th>\n",
       "      <th>x8</th>\n",
       "    </tr>\n",
       "  </thead>\n",
       "  <tbody>\n",
       "    <tr>\n",
       "      <th>0</th>\n",
       "      <td>0.044467</td>\n",
       "      <td>0.913772</td>\n",
       "      <td>-0.149724</td>\n",
       "      <td>-1.545730</td>\n",
       "      <td>-1.092164</td>\n",
       "      <td>0.521719</td>\n",
       "      <td>-0.666738</td>\n",
       "    </tr>\n",
       "    <tr>\n",
       "      <th>1</th>\n",
       "      <td>0.417228</td>\n",
       "      <td>-0.745942</td>\n",
       "      <td>0.603095</td>\n",
       "      <td>-0.661541</td>\n",
       "      <td>-1.239562</td>\n",
       "      <td>-1.237353</td>\n",
       "      <td>0.304630</td>\n",
       "    </tr>\n",
       "    <tr>\n",
       "      <th>2</th>\n",
       "      <td>0.838689</td>\n",
       "      <td>0.860183</td>\n",
       "      <td>0.663881</td>\n",
       "      <td>0.810260</td>\n",
       "      <td>-0.458877</td>\n",
       "      <td>-0.812271</td>\n",
       "      <td>-1.179530</td>\n",
       "    </tr>\n",
       "    <tr>\n",
       "      <th>3</th>\n",
       "      <td>-1.199700</td>\n",
       "      <td>0.193449</td>\n",
       "      <td>-1.019683</td>\n",
       "      <td>1.309865</td>\n",
       "      <td>0.023081</td>\n",
       "      <td>1.375817</td>\n",
       "      <td>1.458419</td>\n",
       "    </tr>\n",
       "    <tr>\n",
       "      <th>4</th>\n",
       "      <td>0.740765</td>\n",
       "      <td>-0.320668</td>\n",
       "      <td>0.620582</td>\n",
       "      <td>1.795211</td>\n",
       "      <td>0.534506</td>\n",
       "      <td>-0.821929</td>\n",
       "      <td>-0.930020</td>\n",
       "    </tr>\n",
       "  </tbody>\n",
       "</table>\n",
       "</div>"
      ],
      "text/plain": [
       "         x0        x1        x2        x3        x4        x6        x8\n",
       "0  0.044467  0.913772 -0.149724 -1.545730 -1.092164  0.521719 -0.666738\n",
       "1  0.417228 -0.745942  0.603095 -0.661541 -1.239562 -1.237353  0.304630\n",
       "2  0.838689  0.860183  0.663881  0.810260 -0.458877 -0.812271 -1.179530\n",
       "3 -1.199700  0.193449 -1.019683  1.309865  0.023081  1.375817  1.458419\n",
       "4  0.740765 -0.320668  0.620582  1.795211  0.534506 -0.821929 -0.930020"
      ]
     },
     "execution_count": 13,
     "metadata": {},
     "output_type": "execute_result"
    }
   ],
   "source": [
    "# Sklearn returns numpy arrays. Convert to dataframe\n",
    "\n",
    "X_train_t = pd.DataFrame(X_train_t, columns = selector.get_feature_names_out())\n",
    "X_test_t = pd.DataFrame(X_test_t, columns = selector.get_feature_names_out())\n",
    "\n",
    "# show result\n",
    "X_train_t.head()"
   ]
  },
  {
   "cell_type": "code",
   "execution_count": 14,
   "id": "6d47434f",
   "metadata": {},
   "outputs": [
    {
     "data": {
      "text/html": [
       "<style>#sk-container-id-2 {color: black;background-color: white;}#sk-container-id-2 pre{padding: 0;}#sk-container-id-2 div.sk-toggleable {background-color: white;}#sk-container-id-2 label.sk-toggleable__label {cursor: pointer;display: block;width: 100%;margin-bottom: 0;padding: 0.3em;box-sizing: border-box;text-align: center;}#sk-container-id-2 label.sk-toggleable__label-arrow:before {content: \"▸\";float: left;margin-right: 0.25em;color: #696969;}#sk-container-id-2 label.sk-toggleable__label-arrow:hover:before {color: black;}#sk-container-id-2 div.sk-estimator:hover label.sk-toggleable__label-arrow:before {color: black;}#sk-container-id-2 div.sk-toggleable__content {max-height: 0;max-width: 0;overflow: hidden;text-align: left;background-color: #f0f8ff;}#sk-container-id-2 div.sk-toggleable__content pre {margin: 0.2em;color: black;border-radius: 0.25em;background-color: #f0f8ff;}#sk-container-id-2 input.sk-toggleable__control:checked~div.sk-toggleable__content {max-height: 200px;max-width: 100%;overflow: auto;}#sk-container-id-2 input.sk-toggleable__control:checked~label.sk-toggleable__label-arrow:before {content: \"▾\";}#sk-container-id-2 div.sk-estimator input.sk-toggleable__control:checked~label.sk-toggleable__label {background-color: #d4ebff;}#sk-container-id-2 div.sk-label input.sk-toggleable__control:checked~label.sk-toggleable__label {background-color: #d4ebff;}#sk-container-id-2 input.sk-hidden--visually {border: 0;clip: rect(1px 1px 1px 1px);clip: rect(1px, 1px, 1px, 1px);height: 1px;margin: -1px;overflow: hidden;padding: 0;position: absolute;width: 1px;}#sk-container-id-2 div.sk-estimator {font-family: monospace;background-color: #f0f8ff;border: 1px dotted black;border-radius: 0.25em;box-sizing: border-box;margin-bottom: 0.5em;}#sk-container-id-2 div.sk-estimator:hover {background-color: #d4ebff;}#sk-container-id-2 div.sk-parallel-item::after {content: \"\";width: 100%;border-bottom: 1px solid gray;flex-grow: 1;}#sk-container-id-2 div.sk-label:hover label.sk-toggleable__label {background-color: #d4ebff;}#sk-container-id-2 div.sk-serial::before {content: \"\";position: absolute;border-left: 1px solid gray;box-sizing: border-box;top: 0;bottom: 0;left: 50%;z-index: 0;}#sk-container-id-2 div.sk-serial {display: flex;flex-direction: column;align-items: center;background-color: white;padding-right: 0.2em;padding-left: 0.2em;position: relative;}#sk-container-id-2 div.sk-item {position: relative;z-index: 1;}#sk-container-id-2 div.sk-parallel {display: flex;align-items: stretch;justify-content: center;background-color: white;position: relative;}#sk-container-id-2 div.sk-item::before, #sk-container-id-2 div.sk-parallel-item::before {content: \"\";position: absolute;border-left: 1px solid gray;box-sizing: border-box;top: 0;bottom: 0;left: 50%;z-index: -1;}#sk-container-id-2 div.sk-parallel-item {display: flex;flex-direction: column;z-index: 1;position: relative;background-color: white;}#sk-container-id-2 div.sk-parallel-item:first-child::after {align-self: flex-end;width: 50%;}#sk-container-id-2 div.sk-parallel-item:last-child::after {align-self: flex-start;width: 50%;}#sk-container-id-2 div.sk-parallel-item:only-child::after {width: 0;}#sk-container-id-2 div.sk-dashed-wrapped {border: 1px dashed gray;margin: 0 0.4em 0.5em 0.4em;box-sizing: border-box;padding-bottom: 0.4em;background-color: white;}#sk-container-id-2 div.sk-label label {font-family: monospace;font-weight: bold;display: inline-block;line-height: 1.2em;}#sk-container-id-2 div.sk-label-container {text-align: center;}#sk-container-id-2 div.sk-container {/* jupyter's `normalize.less` sets `[hidden] { display: none; }` but bootstrap.min.css set `[hidden] { display: none !important; }` so we also need the `!important` here to be able to override the default hidden behavior on the sphinx rendered scikit-learn.org. See: https://github.com/scikit-learn/scikit-learn/issues/21755 */display: inline-block !important;position: relative;}#sk-container-id-2 div.sk-text-repr-fallback {display: none;}</style><div id=\"sk-container-id-2\" class=\"sk-top-container\"><div class=\"sk-text-repr-fallback\"><pre>DropConstantFeatures(tol=0.95)</pre><b>In a Jupyter environment, please rerun this cell to show the HTML representation or trust the notebook. <br />On GitHub, the HTML representation is unable to render, please try loading this page with nbviewer.org.</b></div><div class=\"sk-container\" hidden><div class=\"sk-item\"><div class=\"sk-estimator sk-toggleable\"><input class=\"sk-toggleable__control sk-hidden--visually\" id=\"sk-estimator-id-2\" type=\"checkbox\" checked><label for=\"sk-estimator-id-2\" class=\"sk-toggleable__label sk-toggleable__label-arrow\">DropConstantFeatures</label><div class=\"sk-toggleable__content\"><pre>DropConstantFeatures(tol=0.95)</pre></div></div></div></div></div>"
      ],
      "text/plain": [
       "DropConstantFeatures(tol=0.95)"
      ]
     },
     "execution_count": 14,
     "metadata": {},
     "output_type": "execute_result"
    }
   ],
   "source": [
    "# To remove constant features\n",
    "\n",
    "selector = DropConstantFeatures(tol = 0.95)\n",
    "\n",
    "# fit finds the features with only 1 value\n",
    "selector.fit(X_train)"
   ]
  },
  {
   "cell_type": "code",
   "execution_count": 15,
   "id": "5124f9cf",
   "metadata": {},
   "outputs": [
    {
     "data": {
      "text/plain": [
       "[5, 7, 9]"
      ]
     },
     "execution_count": 15,
     "metadata": {},
     "output_type": "execute_result"
    }
   ],
   "source": [
    "# the constant features\n",
    "selector.features_to_drop_"
   ]
  },
  {
   "cell_type": "code",
   "execution_count": 16,
   "id": "b2496f61",
   "metadata": {},
   "outputs": [
    {
     "data": {
      "text/plain": [
       "((700, 7), (300, 7))"
      ]
     },
     "execution_count": 16,
     "metadata": {},
     "output_type": "execute_result"
    }
   ],
   "source": [
    "# drop constant features\n",
    "\n",
    "X_train_t = selector.transform(X_train)\n",
    "X_test_t = selector.transform(X_test)\n",
    "\n",
    "X_train_t.shape, X_test_t.shape"
   ]
  },
  {
   "cell_type": "code",
   "execution_count": 17,
   "id": "d11fb68d",
   "metadata": {},
   "outputs": [
    {
     "data": {
      "text/html": [
       "<div>\n",
       "<style scoped>\n",
       "    .dataframe tbody tr th:only-of-type {\n",
       "        vertical-align: middle;\n",
       "    }\n",
       "\n",
       "    .dataframe tbody tr th {\n",
       "        vertical-align: top;\n",
       "    }\n",
       "\n",
       "    .dataframe thead th {\n",
       "        text-align: right;\n",
       "    }\n",
       "</style>\n",
       "<table border=\"1\" class=\"dataframe\">\n",
       "  <thead>\n",
       "    <tr style=\"text-align: right;\">\n",
       "      <th></th>\n",
       "      <th>0</th>\n",
       "      <th>1</th>\n",
       "      <th>2</th>\n",
       "      <th>3</th>\n",
       "      <th>4</th>\n",
       "      <th>6</th>\n",
       "      <th>8</th>\n",
       "    </tr>\n",
       "  </thead>\n",
       "  <tbody>\n",
       "    <tr>\n",
       "      <th>541</th>\n",
       "      <td>0.044467</td>\n",
       "      <td>0.913772</td>\n",
       "      <td>-0.149724</td>\n",
       "      <td>-1.545730</td>\n",
       "      <td>-1.092164</td>\n",
       "      <td>0.521719</td>\n",
       "      <td>-0.666738</td>\n",
       "    </tr>\n",
       "    <tr>\n",
       "      <th>440</th>\n",
       "      <td>0.417228</td>\n",
       "      <td>-0.745942</td>\n",
       "      <td>0.603095</td>\n",
       "      <td>-0.661541</td>\n",
       "      <td>-1.239562</td>\n",
       "      <td>-1.237353</td>\n",
       "      <td>0.304630</td>\n",
       "    </tr>\n",
       "    <tr>\n",
       "      <th>482</th>\n",
       "      <td>0.838689</td>\n",
       "      <td>0.860183</td>\n",
       "      <td>0.663881</td>\n",
       "      <td>0.810260</td>\n",
       "      <td>-0.458877</td>\n",
       "      <td>-0.812271</td>\n",
       "      <td>-1.179530</td>\n",
       "    </tr>\n",
       "    <tr>\n",
       "      <th>422</th>\n",
       "      <td>-1.199700</td>\n",
       "      <td>0.193449</td>\n",
       "      <td>-1.019683</td>\n",
       "      <td>1.309865</td>\n",
       "      <td>0.023081</td>\n",
       "      <td>1.375817</td>\n",
       "      <td>1.458419</td>\n",
       "    </tr>\n",
       "    <tr>\n",
       "      <th>778</th>\n",
       "      <td>0.740765</td>\n",
       "      <td>-0.320668</td>\n",
       "      <td>0.620582</td>\n",
       "      <td>1.795211</td>\n",
       "      <td>0.534506</td>\n",
       "      <td>-0.821929</td>\n",
       "      <td>-0.930020</td>\n",
       "    </tr>\n",
       "  </tbody>\n",
       "</table>\n",
       "</div>"
      ],
      "text/plain": [
       "            0         1         2         3         4         6         8\n",
       "541  0.044467  0.913772 -0.149724 -1.545730 -1.092164  0.521719 -0.666738\n",
       "440  0.417228 -0.745942  0.603095 -0.661541 -1.239562 -1.237353  0.304630\n",
       "482  0.838689  0.860183  0.663881  0.810260 -0.458877 -0.812271 -1.179530\n",
       "422 -1.199700  0.193449 -1.019683  1.309865  0.023081  1.375817  1.458419\n",
       "778  0.740765 -0.320668  0.620582  1.795211  0.534506 -0.821929 -0.930020"
      ]
     },
     "execution_count": 17,
     "metadata": {},
     "output_type": "execute_result"
    }
   ],
   "source": [
    "# the result is already a dataframe\n",
    "X_train_t.head()"
   ]
  },
  {
   "cell_type": "markdown",
   "id": "8441e5eb",
   "metadata": {},
   "source": [
    "### Implementation using pandas"
   ]
  },
  {
   "cell_type": "markdown",
   "id": "888a3e1e",
   "metadata": {},
   "source": [
    "The pandas implementation of the DropConstantFeatures "
   ]
  },
  {
   "cell_type": "code",
   "execution_count": 25,
   "id": "86bb83b1",
   "metadata": {},
   "outputs": [
    {
     "data": {
      "text/plain": [
       "3"
      ]
     },
     "execution_count": 25,
     "metadata": {},
     "output_type": "execute_result"
    }
   ],
   "source": [
    "# create an emplty list\n",
    "\n",
    "quasi_constant = []\n",
    "\n",
    "# iterate over every feature\n",
    "for feature in X_train.columns:\n",
    "    # find the predominant value, i.e. the value shared by most observations\n",
    "    predominant = X_train[feature].value_counts(\n",
    "    normalize = True).sort_values(ascending = False).values[0]\n",
    "    \n",
    "    # evaluate the predominant feature\n",
    "    if predominant > 0.95:\n",
    "        quasi_constant.append(feature)\n",
    "        \n",
    "len(quasi_constant)"
   ]
  },
  {
   "cell_type": "code",
   "execution_count": 27,
   "id": "d779327a",
   "metadata": {},
   "outputs": [
    {
     "data": {
      "text/plain": [
       "[5, 7, 9]"
      ]
     },
     "execution_count": 27,
     "metadata": {},
     "output_type": "execute_result"
    }
   ],
   "source": [
    "# print the quasi-constant feature indexes\n",
    "quasi_constant"
   ]
  }
 ],
 "metadata": {
  "kernelspec": {
   "display_name": "Python 3",
   "language": "python",
   "name": "python3"
  },
  "language_info": {
   "codemirror_mode": {
    "name": "ipython",
    "version": 3
   },
   "file_extension": ".py",
   "mimetype": "text/x-python",
   "name": "python",
   "nbconvert_exporter": "python",
   "pygments_lexer": "ipython3",
   "version": "3.8.10"
  }
 },
 "nbformat": 4,
 "nbformat_minor": 5
}
