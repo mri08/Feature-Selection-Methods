{
 "cells": [
  {
   "cell_type": "markdown",
   "id": "9d0e477f",
   "metadata": {},
   "source": [
    "### Duplicate Features"
   ]
  },
  {
   "cell_type": "code",
   "execution_count": 5,
   "id": "18243900",
   "metadata": {},
   "outputs": [],
   "source": [
    "import pandas as pd\n",
    "import random\n",
    "\n",
    "from sklearn.datasets import make_classification\n",
    "from sklearn.model_selection import train_test_split\n",
    "\n",
    "from feature_engine.selection import DropDuplicateFeatures"
   ]
  },
  {
   "cell_type": "code",
   "execution_count": 2,
   "id": "4d8f2c33",
   "metadata": {},
   "outputs": [
    {
     "data": {
      "text/html": [
       "<div>\n",
       "<style scoped>\n",
       "    .dataframe tbody tr th:only-of-type {\n",
       "        vertical-align: middle;\n",
       "    }\n",
       "\n",
       "    .dataframe tbody tr th {\n",
       "        vertical-align: top;\n",
       "    }\n",
       "\n",
       "    .dataframe thead th {\n",
       "        text-align: right;\n",
       "    }\n",
       "</style>\n",
       "<table border=\"1\" class=\"dataframe\">\n",
       "  <thead>\n",
       "    <tr style=\"text-align: right;\">\n",
       "      <th></th>\n",
       "      <th>0</th>\n",
       "      <th>1</th>\n",
       "      <th>2</th>\n",
       "      <th>3</th>\n",
       "      <th>4</th>\n",
       "      <th>5</th>\n",
       "      <th>6</th>\n",
       "      <th>7</th>\n",
       "      <th>8</th>\n",
       "      <th>9</th>\n",
       "    </tr>\n",
       "  </thead>\n",
       "  <tbody>\n",
       "    <tr>\n",
       "      <th>0</th>\n",
       "      <td>0.114931</td>\n",
       "      <td>-0.426246</td>\n",
       "      <td>0.114931</td>\n",
       "      <td>0.124174</td>\n",
       "      <td>0.021285</td>\n",
       "      <td>0.021285</td>\n",
       "      <td>0.124174</td>\n",
       "      <td>0.124174</td>\n",
       "      <td>0.114931</td>\n",
       "      <td>0.114931</td>\n",
       "    </tr>\n",
       "    <tr>\n",
       "      <th>1</th>\n",
       "      <td>1.568755</td>\n",
       "      <td>1.574024</td>\n",
       "      <td>1.568755</td>\n",
       "      <td>-1.331536</td>\n",
       "      <td>-1.145407</td>\n",
       "      <td>-1.145407</td>\n",
       "      <td>-1.331536</td>\n",
       "      <td>-1.331536</td>\n",
       "      <td>1.568755</td>\n",
       "      <td>1.568755</td>\n",
       "    </tr>\n",
       "    <tr>\n",
       "      <th>2</th>\n",
       "      <td>0.351335</td>\n",
       "      <td>0.152907</td>\n",
       "      <td>0.351335</td>\n",
       "      <td>-0.216485</td>\n",
       "      <td>-0.217748</td>\n",
       "      <td>-0.217748</td>\n",
       "      <td>-0.216485</td>\n",
       "      <td>-0.216485</td>\n",
       "      <td>0.351335</td>\n",
       "      <td>0.351335</td>\n",
       "    </tr>\n",
       "    <tr>\n",
       "      <th>3</th>\n",
       "      <td>-1.422620</td>\n",
       "      <td>-1.234050</td>\n",
       "      <td>-1.422620</td>\n",
       "      <td>1.128338</td>\n",
       "      <td>1.001149</td>\n",
       "      <td>1.001149</td>\n",
       "      <td>1.128338</td>\n",
       "      <td>1.128338</td>\n",
       "      <td>-1.422620</td>\n",
       "      <td>-1.422620</td>\n",
       "    </tr>\n",
       "    <tr>\n",
       "      <th>4</th>\n",
       "      <td>-1.217120</td>\n",
       "      <td>1.803470</td>\n",
       "      <td>-1.217120</td>\n",
       "      <td>-0.205288</td>\n",
       "      <td>0.301110</td>\n",
       "      <td>0.301110</td>\n",
       "      <td>-0.205288</td>\n",
       "      <td>-0.205288</td>\n",
       "      <td>-1.217120</td>\n",
       "      <td>-1.217120</td>\n",
       "    </tr>\n",
       "  </tbody>\n",
       "</table>\n",
       "</div>"
      ],
      "text/plain": [
       "          0         1         2         3         4         5         6  \\\n",
       "0  0.114931 -0.426246  0.114931  0.124174  0.021285  0.021285  0.124174   \n",
       "1  1.568755  1.574024  1.568755 -1.331536 -1.145407 -1.145407 -1.331536   \n",
       "2  0.351335  0.152907  0.351335 -0.216485 -0.217748 -0.217748 -0.216485   \n",
       "3 -1.422620 -1.234050 -1.422620  1.128338  1.001149  1.001149  1.128338   \n",
       "4 -1.217120  1.803470 -1.217120 -0.205288  0.301110  0.301110 -0.205288   \n",
       "\n",
       "          7         8         9  \n",
       "0  0.124174  0.114931  0.114931  \n",
       "1 -1.331536  1.568755  1.568755  \n",
       "2 -0.216485  0.351335  0.351335  \n",
       "3  1.128338 -1.422620 -1.422620  \n",
       "4 -0.205288 -1.217120 -1.217120  "
      ]
     },
     "execution_count": 2,
     "metadata": {},
     "output_type": "execute_result"
    }
   ],
   "source": [
    "# create a toy dataset with redundant and constant features\n",
    "\n",
    "X,y = make_classification(\n",
    "        n_samples = 1000,\n",
    "        n_features = 10,\n",
    "        n_repeated = 6,\n",
    "        n_classes = 2,\n",
    "        random_state = 42\n",
    ")\n",
    "\n",
    "X = pd.DataFrame(X)\n",
    "y = pd.Series(y)\n",
    "\n",
    "\n",
    "\n",
    "X.head()\n"
   ]
  },
  {
   "cell_type": "code",
   "execution_count": 3,
   "id": "23c78b1e",
   "metadata": {},
   "outputs": [
    {
     "data": {
      "text/plain": [
       "((700, 10), (300, 10))"
      ]
     },
     "execution_count": 3,
     "metadata": {},
     "output_type": "execute_result"
    }
   ],
   "source": [
    "# split dataset into train and test\n",
    "\n",
    "X_train,X_test,y_train,y_test = train_test_split(\n",
    "        X, y, test_size = 0.3, random_state = 42\n",
    ")\n",
    "\n",
    "X_train.shape, X_test.shape"
   ]
  },
  {
   "cell_type": "markdown",
   "id": "7eea643f",
   "metadata": {},
   "source": [
    "### DropDuplicateFeatures using Feature-engine"
   ]
  },
  {
   "cell_type": "code",
   "execution_count": 6,
   "id": "ec144e03",
   "metadata": {},
   "outputs": [
    {
     "data": {
      "text/html": [
       "<style>#sk-container-id-1 {color: black;background-color: white;}#sk-container-id-1 pre{padding: 0;}#sk-container-id-1 div.sk-toggleable {background-color: white;}#sk-container-id-1 label.sk-toggleable__label {cursor: pointer;display: block;width: 100%;margin-bottom: 0;padding: 0.3em;box-sizing: border-box;text-align: center;}#sk-container-id-1 label.sk-toggleable__label-arrow:before {content: \"▸\";float: left;margin-right: 0.25em;color: #696969;}#sk-container-id-1 label.sk-toggleable__label-arrow:hover:before {color: black;}#sk-container-id-1 div.sk-estimator:hover label.sk-toggleable__label-arrow:before {color: black;}#sk-container-id-1 div.sk-toggleable__content {max-height: 0;max-width: 0;overflow: hidden;text-align: left;background-color: #f0f8ff;}#sk-container-id-1 div.sk-toggleable__content pre {margin: 0.2em;color: black;border-radius: 0.25em;background-color: #f0f8ff;}#sk-container-id-1 input.sk-toggleable__control:checked~div.sk-toggleable__content {max-height: 200px;max-width: 100%;overflow: auto;}#sk-container-id-1 input.sk-toggleable__control:checked~label.sk-toggleable__label-arrow:before {content: \"▾\";}#sk-container-id-1 div.sk-estimator input.sk-toggleable__control:checked~label.sk-toggleable__label {background-color: #d4ebff;}#sk-container-id-1 div.sk-label input.sk-toggleable__control:checked~label.sk-toggleable__label {background-color: #d4ebff;}#sk-container-id-1 input.sk-hidden--visually {border: 0;clip: rect(1px 1px 1px 1px);clip: rect(1px, 1px, 1px, 1px);height: 1px;margin: -1px;overflow: hidden;padding: 0;position: absolute;width: 1px;}#sk-container-id-1 div.sk-estimator {font-family: monospace;background-color: #f0f8ff;border: 1px dotted black;border-radius: 0.25em;box-sizing: border-box;margin-bottom: 0.5em;}#sk-container-id-1 div.sk-estimator:hover {background-color: #d4ebff;}#sk-container-id-1 div.sk-parallel-item::after {content: \"\";width: 100%;border-bottom: 1px solid gray;flex-grow: 1;}#sk-container-id-1 div.sk-label:hover label.sk-toggleable__label {background-color: #d4ebff;}#sk-container-id-1 div.sk-serial::before {content: \"\";position: absolute;border-left: 1px solid gray;box-sizing: border-box;top: 0;bottom: 0;left: 50%;z-index: 0;}#sk-container-id-1 div.sk-serial {display: flex;flex-direction: column;align-items: center;background-color: white;padding-right: 0.2em;padding-left: 0.2em;position: relative;}#sk-container-id-1 div.sk-item {position: relative;z-index: 1;}#sk-container-id-1 div.sk-parallel {display: flex;align-items: stretch;justify-content: center;background-color: white;position: relative;}#sk-container-id-1 div.sk-item::before, #sk-container-id-1 div.sk-parallel-item::before {content: \"\";position: absolute;border-left: 1px solid gray;box-sizing: border-box;top: 0;bottom: 0;left: 50%;z-index: -1;}#sk-container-id-1 div.sk-parallel-item {display: flex;flex-direction: column;z-index: 1;position: relative;background-color: white;}#sk-container-id-1 div.sk-parallel-item:first-child::after {align-self: flex-end;width: 50%;}#sk-container-id-1 div.sk-parallel-item:last-child::after {align-self: flex-start;width: 50%;}#sk-container-id-1 div.sk-parallel-item:only-child::after {width: 0;}#sk-container-id-1 div.sk-dashed-wrapped {border: 1px dashed gray;margin: 0 0.4em 0.5em 0.4em;box-sizing: border-box;padding-bottom: 0.4em;background-color: white;}#sk-container-id-1 div.sk-label label {font-family: monospace;font-weight: bold;display: inline-block;line-height: 1.2em;}#sk-container-id-1 div.sk-label-container {text-align: center;}#sk-container-id-1 div.sk-container {/* jupyter's `normalize.less` sets `[hidden] { display: none; }` but bootstrap.min.css set `[hidden] { display: none !important; }` so we also need the `!important` here to be able to override the default hidden behavior on the sphinx rendered scikit-learn.org. See: https://github.com/scikit-learn/scikit-learn/issues/21755 */display: inline-block !important;position: relative;}#sk-container-id-1 div.sk-text-repr-fallback {display: none;}</style><div id=\"sk-container-id-1\" class=\"sk-top-container\"><div class=\"sk-text-repr-fallback\"><pre>DropDuplicateFeatures()</pre><b>In a Jupyter environment, please rerun this cell to show the HTML representation or trust the notebook. <br />On GitHub, the HTML representation is unable to render, please try loading this page with nbviewer.org.</b></div><div class=\"sk-container\" hidden><div class=\"sk-item\"><div class=\"sk-estimator sk-toggleable\"><input class=\"sk-toggleable__control sk-hidden--visually\" id=\"sk-estimator-id-1\" type=\"checkbox\" checked><label for=\"sk-estimator-id-1\" class=\"sk-toggleable__label sk-toggleable__label-arrow\">DropDuplicateFeatures</label><div class=\"sk-toggleable__content\"><pre>DropDuplicateFeatures()</pre></div></div></div></div></div>"
      ],
      "text/plain": [
       "DropDuplicateFeatures()"
      ]
     },
     "execution_count": 6,
     "metadata": {},
     "output_type": "execute_result"
    }
   ],
   "source": [
    "selector = DropDuplicateFeatures()\n",
    "\n",
    "# fits finds the duplicate features\n",
    "selector.fit(X_train)"
   ]
  },
  {
   "cell_type": "code",
   "execution_count": 7,
   "id": "d5b0e3d8",
   "metadata": {},
   "outputs": [
    {
     "data": {
      "text/plain": [
       "{2, 5, 6, 7, 8, 9}"
      ]
     },
     "execution_count": 7,
     "metadata": {},
     "output_type": "execute_result"
    }
   ],
   "source": [
    "# the duplicate features\n",
    "selector.features_to_drop_"
   ]
  },
  {
   "cell_type": "code",
   "execution_count": 12,
   "id": "34662a05",
   "metadata": {},
   "outputs": [
    {
     "data": {
      "text/plain": [
       "[{0, 2, 8, 9}, {3, 6, 7}, {4, 5}]"
      ]
     },
     "execution_count": 12,
     "metadata": {},
     "output_type": "execute_result"
    }
   ],
   "source": [
    "# groups of duplicate features\n",
    "selector.duplicated_feature_sets_"
   ]
  },
  {
   "cell_type": "code",
   "execution_count": 13,
   "id": "7f1af878",
   "metadata": {},
   "outputs": [
    {
     "data": {
      "text/plain": [
       "((700, 4), (300, 4))"
      ]
     },
     "execution_count": 13,
     "metadata": {},
     "output_type": "execute_result"
    }
   ],
   "source": [
    "# drop duplicate features\n",
    "\n",
    "X_train_t = selector.transform(X_train)\n",
    "X_test_t = selector.transform(X_test)\n",
    "\n",
    "X_train_t.shape, X_test_t.shape"
   ]
  },
  {
   "cell_type": "markdown",
   "id": "e3e725f6",
   "metadata": {},
   "source": [
    "### Pandas implementation of the above "
   ]
  },
  {
   "cell_type": "code",
   "execution_count": 17,
   "id": "ecfbd6f0",
   "metadata": {},
   "outputs": [],
   "source": [
    "# create an emplty dictionary where we will store the groups of duplicates\n",
    "\n",
    "duplicated_groups = {}\n",
    "\n",
    "# create an emplty list to collect features that are found to be duplicated\n",
    "_duplicated_lst = []\n",
    "\n",
    "# iterate over every feature in our dataset\n",
    "\n",
    "for i in range(0, len(X_train.columns)):\n",
    "    \n",
    "    # choose 1 feature\n",
    "    feat_1 = X_train.columns[i]\n",
    "    \n",
    "    # checking if this feature is already picked up as a duplicate feature\n",
    "    if feat_1 not in _duplicated_lst:\n",
    "        \n",
    "        \n",
    "        # Create an empty list as an entry for this feature in the dictionary\n",
    "        duplicated_groups[feat_1] = []\n",
    "        \n",
    "        # now iterate over the remaining features of the dataset\n",
    "        for feat_2 in X_train.columns[i+1:]:\n",
    "            \n",
    "            # check if feat_2 is identical to feat_1\n",
    "            if X_train[feat_1].equals(X_train[feat_2]):\n",
    "                \n",
    "                # if identical then append it to the list in the dictionary\n",
    "                duplicated_groups[feat_1].append(feat_2)\n",
    "                \n",
    "                # and append it to our list for duplicated variables\n",
    "                _duplicated_lst.append(feat_2)\n",
    "                "
   ]
  },
  {
   "cell_type": "code",
   "execution_count": 18,
   "id": "f3389fb4",
   "metadata": {},
   "outputs": [
    {
     "data": {
      "text/plain": [
       "6"
      ]
     },
     "execution_count": 18,
     "metadata": {},
     "output_type": "execute_result"
    }
   ],
   "source": [
    "# number of duplicated features\n",
    "len(_duplicated_lst)"
   ]
  },
  {
   "cell_type": "code",
   "execution_count": 19,
   "id": "233c5e43",
   "metadata": {},
   "outputs": [
    {
     "data": {
      "text/plain": [
       "[2, 8, 9, 6, 7, 5]"
      ]
     },
     "execution_count": 19,
     "metadata": {},
     "output_type": "execute_result"
    }
   ],
   "source": [
    "# duplicated features\n",
    "_duplicated_lst"
   ]
  },
  {
   "cell_type": "code",
   "execution_count": 21,
   "id": "909d3db2",
   "metadata": {},
   "outputs": [
    {
     "data": {
      "text/plain": [
       "{0: [2, 8, 9], 1: [], 3: [6, 7], 4: [5]}"
      ]
     },
     "execution_count": 21,
     "metadata": {},
     "output_type": "execute_result"
    }
   ],
   "source": [
    "# groups of duplicated features\n",
    "duplicated_groups"
   ]
  },
  {
   "cell_type": "code",
   "execution_count": 22,
   "id": "0f4a5f4c",
   "metadata": {},
   "outputs": [
    {
     "data": {
      "text/plain": [
       "((700, 4), (300, 4))"
      ]
     },
     "execution_count": 22,
     "metadata": {},
     "output_type": "execute_result"
    }
   ],
   "source": [
    "# remove the duplicates\n",
    "X_train_t = X_train[duplicated_groups.keys()]\n",
    "X_test_t = X_test[duplicated_groups.keys()]\n",
    "X_train_t.shape, X_test_t.shape"
   ]
  }
 ],
 "metadata": {
  "kernelspec": {
   "display_name": "Python 3",
   "language": "python",
   "name": "python3"
  },
  "language_info": {
   "codemirror_mode": {
    "name": "ipython",
    "version": 3
   },
   "file_extension": ".py",
   "mimetype": "text/x-python",
   "name": "python",
   "nbconvert_exporter": "python",
   "pygments_lexer": "ipython3",
   "version": "3.8.10"
  }
 },
 "nbformat": 4,
 "nbformat_minor": 5
}
